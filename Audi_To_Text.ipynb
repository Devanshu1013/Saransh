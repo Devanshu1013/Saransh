{
 "cells": [
  {
   "cell_type": "markdown",
   "id": "159ce056",
   "metadata": {},
   "source": [
    "speech_recognition is used for converting the audio file to text"
   ]
  },
  {
   "cell_type": "code",
   "execution_count": null,
   "id": "e685629e",
   "metadata": {},
   "outputs": [],
   "source": [
    "import speech_recognition as spr"
   ]
  },
  {
   "cell_type": "markdown",
   "id": "b3b17dbd",
   "metadata": {},
   "source": [
    "recognizer instance is used to listen to audio from the audio file and then recognize the speech using the Sphinx."
   ]
  },
  {
   "cell_type": "code",
   "execution_count": null,
   "id": "ae6f20ea",
   "metadata": {},
   "outputs": [],
   "source": [
    "recognizer = spr.Recognizer()"
   ]
  },
  {
   "cell_type": "markdown",
   "id": "cbd4b212",
   "metadata": {},
   "source": [
    "Adjust for Ambient Noise:\n",
    "The adjust_for_ambient_noise method is called on the recognizer to adjust its energy threshold based on the ambient noise in the audio source. This helps in improving the accuracy of speech recognition by adapting to the background noise level.\n",
    "\n",
    "Record the Audio:\n",
    "The record method is then used to capture the entire audio from the specified source.\n",
    "\n",
    "Try-Except Block for Speech Recognition:\n",
    "The try block attempts to recognize speech using the Sphinx recognize.\n",
    "Sphinx is a speech recognition engine provided by the speech_recognition library.\n",
    "\n",
    "Print Recognized Text:\n",
    "If speech recognition is successful, the recognized text is printed to the console."
   ]
  },
  {
   "cell_type": "code",
   "execution_count": null,
   "id": "ade9a76e",
   "metadata": {},
   "outputs": [],
   "source": [
    "# Adjust the energy threshold and record the entire audio\n",
    "with spr.AudioFile('Audios/3. Applications of blockchain beyond cryptocurrencies.wav') as source:\n",
    "    recognizer.adjust_for_ambient_noise(source)\n",
    "    audio = recognizer.record(source)\n",
    "    \n",
    "    try:\n",
    "        # Attempt to recognize speech using Sphinx\n",
    "        text = recognizer.recognize_sphinx(audio)\n",
    "        print(\"Recognized text:\", text)\n",
    "    except spr.UnknownValueError as e:\n",
    "        print(\"Sphinx could not understand audio: {0}\".format(e))\n",
    "    except spr.RequestError as e:\n",
    "        print(\"Sphinx error; {0}\".format(e))"
   ]
  },
  {
   "cell_type": "markdown",
   "id": "f3723eec",
   "metadata": {},
   "source": [
    "This will save the output text into the text document."
   ]
  },
  {
   "cell_type": "code",
   "execution_count": null,
   "id": "e67a6e5a",
   "metadata": {},
   "outputs": [],
   "source": [
    " with open('Docs\\Text.txt', 'w') as file:\n",
    "            file.write(text)"
   ]
  }
 ],
 "metadata": {
  "kernelspec": {
   "display_name": "Python 3 (ipykernel)",
   "language": "python",
   "name": "python3"
  },
  "language_info": {
   "codemirror_mode": {
    "name": "ipython",
    "version": 3
   },
   "file_extension": ".py",
   "mimetype": "text/x-python",
   "name": "python",
   "nbconvert_exporter": "python",
   "pygments_lexer": "ipython3",
   "version": "3.11.5"
  }
 },
 "nbformat": 4,
 "nbformat_minor": 5
}
